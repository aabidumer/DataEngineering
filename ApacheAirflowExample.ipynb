{
  "nbformat": 4,
  "nbformat_minor": 0,
  "metadata": {
    "colab": {
      "provenance": [],
      "authorship_tag": "ABX9TyOzoBBUG5dQwXUOUwjidTTm",
      "include_colab_link": true
    },
    "kernelspec": {
      "name": "python3",
      "display_name": "Python 3"
    },
    "language_info": {
      "name": "python"
    }
  },
  "cells": [
    {
      "cell_type": "markdown",
      "metadata": {
        "id": "view-in-github",
        "colab_type": "text"
      },
      "source": [
        "<a href=\"https://colab.research.google.com/github/aabidumer/DataEngineering/blob/master/ApacheAirflowExample.ipynb\" target=\"_parent\"><img src=\"https://colab.research.google.com/assets/colab-badge.svg\" alt=\"Open In Colab\"/></a>"
      ]
    },
    {
      "cell_type": "code",
      "execution_count": 1,
      "metadata": {
        "colab": {
          "base_uri": "https://localhost:8080/"
        },
        "id": "GOu1OLKlP57x",
        "outputId": "783e71b2-2976-4534-dbf4-dc1727ac8035"
      },
      "outputs": [
        {
          "output_type": "stream",
          "name": "stdout",
          "text": [
            "Looking in indexes: https://pypi.org/simple, https://us-python.pkg.dev/colab-wheels/public/simple/\n",
            "Collecting apache-airflow\n",
            "  Downloading apache_airflow-2.6.1-py3-none-any.whl (12.1 MB)\n",
            "\u001b[2K     \u001b[90m━━━━━━━━━━━━━━━━━━━━━━━━━━━━━━━━━━━━━━━━\u001b[0m \u001b[32m12.1/12.1 MB\u001b[0m \u001b[31m65.0 MB/s\u001b[0m eta \u001b[36m0:00:00\u001b[0m\n",
            "\u001b[?25hCollecting alembic<2.0,>=1.6.3 (from apache-airflow)\n",
            "  Downloading alembic-1.11.1-py3-none-any.whl (224 kB)\n",
            "\u001b[2K     \u001b[90m━━━━━━━━━━━━━━━━━━━━━━━━━━━━━━━━━━━━━━━\u001b[0m \u001b[32m224.5/224.5 kB\u001b[0m \u001b[31m7.5 MB/s\u001b[0m eta \u001b[36m0:00:00\u001b[0m\n",
            "\u001b[?25hCollecting argcomplete>=1.10 (from apache-airflow)\n",
            "  Downloading argcomplete-3.0.8-py3-none-any.whl (40 kB)\n",
            "\u001b[2K     \u001b[90m━━━━━━━━━━━━━━━━━━━━━━━━━━━━━━━━━━━━━━━━\u001b[0m \u001b[32m40.0/40.0 kB\u001b[0m \u001b[31m1.5 MB/s\u001b[0m eta \u001b[36m0:00:00\u001b[0m\n",
            "\u001b[?25hCollecting asgiref (from apache-airflow)\n",
            "  Downloading asgiref-3.7.1-py3-none-any.whl (24 kB)\n",
            "Requirement already satisfied: attrs>=22.1.0 in /usr/local/lib/python3.10/dist-packages (from apache-airflow) (23.1.0)\n",
            "Collecting blinker (from apache-airflow)\n",
            "  Downloading blinker-1.6.2-py3-none-any.whl (13 kB)\n",
            "Collecting cattrs>=22.1.0 (from apache-airflow)\n",
            "  Downloading cattrs-22.2.0-py3-none-any.whl (35 kB)\n",
            "Collecting colorlog<5.0,>=4.0.2 (from apache-airflow)\n",
            "  Downloading colorlog-4.8.0-py2.py3-none-any.whl (10 kB)\n",
            "Collecting configupdater>=3.1.1 (from apache-airflow)\n",
            "  Downloading ConfigUpdater-3.1.1-py2.py3-none-any.whl (34 kB)\n",
            "Collecting connexion[flask]>=2.10.0 (from apache-airflow)\n",
            "  Downloading connexion-2.14.2-py2.py3-none-any.whl (95 kB)\n",
            "\u001b[2K     \u001b[90m━━━━━━━━━━━━━━━━━━━━━━━━━━━━━━━━━━━━━━━━\u001b[0m \u001b[32m95.1/95.1 kB\u001b[0m \u001b[31m5.3 MB/s\u001b[0m eta \u001b[36m0:00:00\u001b[0m\n",
            "\u001b[?25hCollecting cron-descriptor>=1.2.24 (from apache-airflow)\n",
            "  Downloading cron_descriptor-1.4.0.tar.gz (29 kB)\n",
            "  Preparing metadata (setup.py) ... \u001b[?25l\u001b[?25hdone\n",
            "Collecting croniter>=0.3.17 (from apache-airflow)\n",
            "  Downloading croniter-1.3.14-py2.py3-none-any.whl (18 kB)\n",
            "Requirement already satisfied: cryptography>=0.9.3 in /usr/local/lib/python3.10/dist-packages (from apache-airflow) (40.0.2)\n",
            "Collecting deprecated>=1.2.13 (from apache-airflow)\n",
            "  Downloading Deprecated-1.2.13-py2.py3-none-any.whl (9.6 kB)\n",
            "Collecting dill>=0.2.2 (from apache-airflow)\n",
            "  Downloading dill-0.3.6-py3-none-any.whl (110 kB)\n",
            "\u001b[2K     \u001b[90m━━━━━━━━━━━━━━━━━━━━━━━━━━━━━━━━━━━━━━━\u001b[0m \u001b[32m110.5/110.5 kB\u001b[0m \u001b[31m9.4 MB/s\u001b[0m eta \u001b[36m0:00:00\u001b[0m\n",
            "\u001b[?25hRequirement already satisfied: flask<2.3,>=2.2 in /usr/local/lib/python3.10/dist-packages (from apache-airflow) (2.2.4)\n",
            "Collecting flask-appbuilder==4.3.0 (from apache-airflow)\n",
            "  Downloading Flask_AppBuilder-4.3.0-py3-none-any.whl (2.5 MB)\n",
            "\u001b[2K     \u001b[90m━━━━━━━━━━━━━━━━━━━━━━━━━━━━━━━━━━━━━━━━\u001b[0m \u001b[32m2.5/2.5 MB\u001b[0m \u001b[31m18.9 MB/s\u001b[0m eta \u001b[36m0:00:00\u001b[0m\n",
            "\u001b[?25hCollecting flask-caching>=1.5.0 (from apache-airflow)\n",
            "  Downloading Flask_Caching-2.0.2-py3-none-any.whl (28 kB)\n",
            "Collecting flask-login>=0.6.2 (from apache-airflow)\n",
            "  Downloading Flask_Login-0.6.2-py3-none-any.whl (17 kB)\n",
            "Collecting flask-session>=0.4.0 (from apache-airflow)\n",
            "  Downloading flask_session-0.5.0-py3-none-any.whl (7.2 kB)\n",
            "Collecting flask-wtf>=0.15 (from apache-airflow)\n",
            "  Downloading Flask_WTF-1.1.1-py3-none-any.whl (12 kB)\n",
            "Requirement already satisfied: graphviz>=0.12 in /usr/local/lib/python3.10/dist-packages (from apache-airflow) (0.20.1)\n",
            "Collecting gunicorn>=20.1.0 (from apache-airflow)\n",
            "  Downloading gunicorn-20.1.0-py3-none-any.whl (79 kB)\n",
            "\u001b[2K     \u001b[90m━━━━━━━━━━━━━━━━━━━━━━━━━━━━━━━━━━━━━━━━\u001b[0m \u001b[32m79.5/79.5 kB\u001b[0m \u001b[31m4.4 MB/s\u001b[0m eta \u001b[36m0:00:00\u001b[0m\n",
            "\u001b[?25hCollecting httpx (from apache-airflow)\n",
            "  Downloading httpx-0.24.1-py3-none-any.whl (75 kB)\n",
            "\u001b[2K     \u001b[90m━━━━━━━━━━━━━━━━━━━━━━━━━━━━━━━━━━━━━━━━\u001b[0m \u001b[32m75.4/75.4 kB\u001b[0m \u001b[31m4.3 MB/s\u001b[0m eta \u001b[36m0:00:00\u001b[0m\n",
            "\u001b[?25hRequirement already satisfied: itsdangerous>=2.0 in /usr/local/lib/python3.10/dist-packages (from apache-airflow) (2.1.2)\n",
            "Requirement already satisfied: jinja2>=3.0.0 in /usr/local/lib/python3.10/dist-packages (from apache-airflow) (3.1.2)\n",
            "Requirement already satisfied: jsonschema>=4.0.0 in /usr/local/lib/python3.10/dist-packages (from apache-airflow) (4.3.3)\n",
            "Collecting lazy-object-proxy (from apache-airflow)\n",
            "  Downloading lazy_object_proxy-1.9.0-cp310-cp310-manylinux_2_5_x86_64.manylinux1_x86_64.manylinux_2_17_x86_64.manylinux2014_x86_64.whl (63 kB)\n",
            "\u001b[2K     \u001b[90m━━━━━━━━━━━━━━━━━━━━━━━━━━━━━━━━━━━━━━━━\u001b[0m \u001b[32m63.3/63.3 kB\u001b[0m \u001b[31m6.0 MB/s\u001b[0m eta \u001b[36m0:00:00\u001b[0m\n",
            "\u001b[?25hCollecting linkify-it-py>=2.0.0 (from apache-airflow)\n",
            "  Downloading linkify_it_py-2.0.2-py3-none-any.whl (19 kB)\n",
            "Collecting lockfile>=0.12.2 (from apache-airflow)\n",
            "  Downloading lockfile-0.12.2-py2.py3-none-any.whl (13 kB)\n",
            "Requirement already satisfied: markdown>=3.0 in /usr/local/lib/python3.10/dist-packages (from apache-airflow) (3.4.3)\n",
            "Requirement already satisfied: markdown-it-py>=2.1.0 in /usr/local/lib/python3.10/dist-packages (from apache-airflow) (2.2.0)\n",
            "Requirement already satisfied: markupsafe>=1.1.1 in /usr/local/lib/python3.10/dist-packages (from apache-airflow) (2.1.2)\n",
            "Collecting marshmallow-oneofschema>=2.0.1 (from apache-airflow)\n",
            "  Downloading marshmallow_oneofschema-3.0.1-py2.py3-none-any.whl (5.8 kB)\n",
            "Collecting mdit-py-plugins>=0.3.0 (from apache-airflow)\n",
            "  Downloading mdit_py_plugins-0.3.5-py3-none-any.whl (52 kB)\n",
            "\u001b[2K     \u001b[90m━━━━━━━━━━━━━━━━━━━━━━━━━━━━━━━━━━━━━━━━\u001b[0m \u001b[32m52.1/52.1 kB\u001b[0m \u001b[31m5.0 MB/s\u001b[0m eta \u001b[36m0:00:00\u001b[0m\n",
            "\u001b[?25hRequirement already satisfied: packaging>=14.0 in /usr/local/lib/python3.10/dist-packages (from apache-airflow) (23.1)\n",
            "Collecting pathspec~=0.9.0 (from apache-airflow)\n",
            "  Downloading pathspec-0.9.0-py2.py3-none-any.whl (31 kB)\n",
            "Collecting pendulum>=2.0 (from apache-airflow)\n",
            "  Downloading pendulum-2.1.2.tar.gz (81 kB)\n",
            "\u001b[2K     \u001b[90m━━━━━━━━━━━━━━━━━━━━━━━━━━━━━━━━━━━━━━━━\u001b[0m \u001b[32m81.2/81.2 kB\u001b[0m \u001b[31m7.8 MB/s\u001b[0m eta \u001b[36m0:00:00\u001b[0m\n",
            "\u001b[?25h  Installing build dependencies ... \u001b[?25l\u001b[?25hdone\n",
            "  Getting requirements to build wheel ... \u001b[?25l\u001b[?25hdone\n",
            "  Preparing metadata (pyproject.toml) ... \u001b[?25l\u001b[?25hdone\n",
            "Requirement already satisfied: pluggy>=1.0 in /usr/local/lib/python3.10/dist-packages (from apache-airflow) (1.0.0)\n",
            "Requirement already satisfied: psutil>=4.2.0 in /usr/local/lib/python3.10/dist-packages (from apache-airflow) (5.9.5)\n",
            "Requirement already satisfied: pydantic>=1.10.0 in /usr/local/lib/python3.10/dist-packages (from apache-airflow) (1.10.7)\n",
            "Requirement already satisfied: pygments>=2.0.1 in /usr/local/lib/python3.10/dist-packages (from apache-airflow) (2.14.0)\n",
            "Collecting pyjwt>=2.0.0 (from apache-airflow)\n",
            "  Downloading PyJWT-2.7.0-py3-none-any.whl (22 kB)\n",
            "Collecting python-daemon>=3.0.0 (from apache-airflow)\n",
            "  Downloading python_daemon-3.0.1-py3-none-any.whl (31 kB)\n",
            "Requirement already satisfied: python-dateutil>=2.3 in /usr/local/lib/python3.10/dist-packages (from apache-airflow) (2.8.2)\n",
            "Collecting python-nvd3>=0.15.0 (from apache-airflow)\n",
            "  Downloading python-nvd3-0.15.0.tar.gz (31 kB)\n",
            "  Preparing metadata (setup.py) ... \u001b[?25l\u001b[?25hdone\n",
            "Requirement already satisfied: python-slugify>=5.0 in /usr/local/lib/python3.10/dist-packages (from apache-airflow) (8.0.1)\n",
            "Collecting rfc3339-validator>=0.1.4 (from apache-airflow)\n",
            "  Downloading rfc3339_validator-0.1.4-py2.py3-none-any.whl (3.5 kB)\n",
            "Requirement already satisfied: rich>=12.4.4 in /usr/local/lib/python3.10/dist-packages (from apache-airflow) (13.3.4)\n",
            "Collecting rich-argparse>=1.0.0 (from apache-airflow)\n",
            "  Downloading rich_argparse-1.1.0-py3-none-any.whl (12 kB)\n",
            "Collecting setproctitle>=1.1.8 (from apache-airflow)\n",
            "  Downloading setproctitle-1.3.2-cp310-cp310-manylinux_2_5_x86_64.manylinux1_x86_64.manylinux_2_17_x86_64.manylinux2014_x86_64.whl (30 kB)\n",
            "Collecting sqlalchemy<2.0,>=1.4 (from apache-airflow)\n",
            "  Downloading SQLAlchemy-1.4.48-cp310-cp310-manylinux_2_5_x86_64.manylinux1_x86_64.manylinux_2_17_x86_64.manylinux2014_x86_64.whl (1.6 MB)\n",
            "\u001b[2K     \u001b[90m━━━━━━━━━━━━━━━━━━━━━━━━━━━━━━━━━━━━━━━━\u001b[0m \u001b[32m1.6/1.6 MB\u001b[0m \u001b[31m63.3 MB/s\u001b[0m eta \u001b[36m0:00:00\u001b[0m\n",
            "\u001b[?25hCollecting sqlalchemy-jsonfield>=1.0 (from apache-airflow)\n",
            "  Downloading SQLAlchemy_JSONField-1.0.1.post0-py3-none-any.whl (10 kB)\n",
            "Requirement already satisfied: tabulate>=0.7.5 in /usr/local/lib/python3.10/dist-packages (from apache-airflow) (0.8.10)\n",
            "Requirement already satisfied: tenacity!=8.2.0,>=6.2.0 in /usr/local/lib/python3.10/dist-packages (from apache-airflow) (8.2.2)\n",
            "Requirement already satisfied: termcolor>=1.1.0 in /usr/local/lib/python3.10/dist-packages (from apache-airflow) (2.3.0)\n",
            "Requirement already satisfied: typing-extensions>=4.0.0 in /usr/local/lib/python3.10/dist-packages (from apache-airflow) (4.5.0)\n",
            "Collecting unicodecsv>=0.14.1 (from apache-airflow)\n",
            "  Downloading unicodecsv-0.14.1.tar.gz (10 kB)\n",
            "  Preparing metadata (setup.py) ... \u001b[?25l\u001b[?25hdone\n",
            "Requirement already satisfied: werkzeug>=2.0 in /usr/local/lib/python3.10/dist-packages (from apache-airflow) (2.3.0)\n",
            "Collecting apache-airflow-providers-common-sql (from apache-airflow)\n",
            "  Downloading apache_airflow_providers_common_sql-1.4.0-py3-none-any.whl (31 kB)\n",
            "Collecting apache-airflow-providers-ftp (from apache-airflow)\n",
            "  Downloading apache_airflow_providers_ftp-3.3.1-py3-none-any.whl (19 kB)\n",
            "Collecting apache-airflow-providers-http (from apache-airflow)\n",
            "  Downloading apache_airflow_providers_http-4.3.0-py3-none-any.whl (22 kB)\n",
            "Collecting apache-airflow-providers-imap (from apache-airflow)\n",
            "  Downloading apache_airflow_providers_imap-3.1.1-py3-none-any.whl (17 kB)\n",
            "Collecting apache-airflow-providers-sqlite (from apache-airflow)\n",
            "  Downloading apache_airflow_providers_sqlite-3.3.2-py3-none-any.whl (15 kB)\n",
            "Collecting apispec[yaml]<6,>=3.3 (from flask-appbuilder==4.3.0->apache-airflow)\n",
            "  Downloading apispec-5.2.2-py3-none-any.whl (29 kB)\n",
            "Collecting colorama<1,>=0.3.9 (from flask-appbuilder==4.3.0->apache-airflow)\n",
            "  Downloading colorama-0.4.6-py2.py3-none-any.whl (25 kB)\n",
            "Requirement already satisfied: click<9,>=8 in /usr/local/lib/python3.10/dist-packages (from flask-appbuilder==4.3.0->apache-airflow) (8.1.3)\n",
            "Collecting email-validator<2,>=1.0.5 (from flask-appbuilder==4.3.0->apache-airflow)\n",
            "  Downloading email_validator-1.3.1-py2.py3-none-any.whl (22 kB)\n",
            "Collecting Flask-Babel<3,>=1 (from flask-appbuilder==4.3.0->apache-airflow)\n",
            "  Downloading Flask_Babel-2.0.0-py3-none-any.whl (9.3 kB)\n",
            "Collecting Flask-Limiter<4,>3 (from flask-appbuilder==4.3.0->apache-airflow)\n",
            "  Downloading Flask_Limiter-3.3.1-py3-none-any.whl (27 kB)\n",
            "Collecting Flask-SQLAlchemy<3,>=2.4 (from flask-appbuilder==4.3.0->apache-airflow)\n",
            "  Downloading Flask_SQLAlchemy-2.5.1-py2.py3-none-any.whl (17 kB)\n",
            "Collecting Flask-JWT-Extended<5.0.0,>=4.0.0 (from flask-appbuilder==4.3.0->apache-airflow)\n",
            "  Downloading Flask_JWT_Extended-4.4.4-py2.py3-none-any.whl (22 kB)\n",
            "Collecting marshmallow<4,>=3 (from flask-appbuilder==4.3.0->apache-airflow)\n",
            "  Downloading marshmallow-3.19.0-py3-none-any.whl (49 kB)\n",
            "\u001b[2K     \u001b[90m━━━━━━━━━━━━━━━━━━━━━━━━━━━━━━━━━━━━━━━━\u001b[0m \u001b[32m49.1/49.1 kB\u001b[0m \u001b[31m5.3 MB/s\u001b[0m eta \u001b[36m0:00:00\u001b[0m\n",
            "\u001b[?25hCollecting marshmallow-enum<2,>=1.5.1 (from flask-appbuilder==4.3.0->apache-airflow)\n",
            "  Downloading marshmallow_enum-1.5.1-py2.py3-none-any.whl (4.2 kB)\n",
            "Collecting marshmallow-sqlalchemy<0.27.0,>=0.22.0 (from flask-appbuilder==4.3.0->apache-airflow)\n",
            "  Downloading marshmallow_sqlalchemy-0.26.1-py2.py3-none-any.whl (15 kB)\n",
            "Collecting prison<1.0.0,>=0.2.1 (from flask-appbuilder==4.3.0->apache-airflow)\n",
            "  Downloading prison-0.2.1-py2.py3-none-any.whl (5.8 kB)\n",
            "Collecting sqlalchemy-utils<1,>=0.32.21 (from flask-appbuilder==4.3.0->apache-airflow)\n",
            "  Downloading SQLAlchemy_Utils-0.41.1-py3-none-any.whl (92 kB)\n",
            "\u001b[2K     \u001b[90m━━━━━━━━━━━━━━━━━━━━━━━━━━━━━━━━━━━━━━━━\u001b[0m \u001b[32m92.6/92.6 kB\u001b[0m \u001b[31m10.2 MB/s\u001b[0m eta \u001b[36m0:00:00\u001b[0m\n",
            "\u001b[?25hCollecting WTForms<4 (from flask-appbuilder==4.3.0->apache-airflow)\n",
            "  Downloading WTForms-3.0.1-py3-none-any.whl (136 kB)\n",
            "\u001b[2K     \u001b[90m━━━━━━━━━━━━━━━━━━━━━━━━━━━━━━━━━━━━━━\u001b[0m \u001b[32m136.5/136.5 kB\u001b[0m \u001b[31m16.8 MB/s\u001b[0m eta \u001b[36m0:00:00\u001b[0m\n",
            "\u001b[?25hCollecting Mako (from alembic<2.0,>=1.6.3->apache-airflow)\n",
            "  Downloading Mako-1.2.4-py3-none-any.whl (78 kB)\n",
            "\u001b[2K     \u001b[90m━━━━━━━━━━━━━━━━━━━━━━━━━━━━━━━━━━━━━━━━\u001b[0m \u001b[32m78.7/78.7 kB\u001b[0m \u001b[31m8.6 MB/s\u001b[0m eta \u001b[36m0:00:00\u001b[0m\n",
            "\u001b[?25hRequirement already satisfied: exceptiongroup in /usr/local/lib/python3.10/dist-packages (from cattrs>=22.1.0->apache-airflow) (1.1.1)\n",
            "Collecting clickclick<21,>=1.2 (from connexion[flask]>=2.10.0->apache-airflow)\n",
            "  Downloading clickclick-20.10.2-py2.py3-none-any.whl (7.4 kB)\n",
            "Requirement already satisfied: PyYAML<7,>=5.1 in /usr/local/lib/python3.10/dist-packages (from connexion[flask]>=2.10.0->apache-airflow) (6.0)\n",
            "Requirement already satisfied: requests<3,>=2.9.1 in /usr/local/lib/python3.10/dist-packages (from connexion[flask]>=2.10.0->apache-airflow) (2.27.1)\n",
            "Collecting inflection<0.6,>=0.3.1 (from connexion[flask]>=2.10.0->apache-airflow)\n",
            "  Downloading inflection-0.5.1-py2.py3-none-any.whl (9.5 kB)\n",
            "Collecting werkzeug>=2.0 (from apache-airflow)\n",
            "  Downloading Werkzeug-2.2.3-py3-none-any.whl (233 kB)\n",
            "\u001b[2K     \u001b[90m━━━━━━━━━━━━━━━━━━━━━━━━━━━━━━━━━━━━━━\u001b[0m \u001b[32m233.6/233.6 kB\u001b[0m \u001b[31m21.9 MB/s\u001b[0m eta \u001b[36m0:00:00\u001b[0m\n",
            "\u001b[?25hRequirement already satisfied: cffi>=1.12 in /usr/local/lib/python3.10/dist-packages (from cryptography>=0.9.3->apache-airflow) (1.15.1)\n",
            "Requirement already satisfied: wrapt<2,>=1.10 in /usr/local/lib/python3.10/dist-packages (from deprecated>=1.2.13->apache-airflow) (1.14.1)\n",
            "Collecting cachelib<0.10.0,>=0.9.0 (from flask-caching>=1.5.0->apache-airflow)\n",
            "  Downloading cachelib-0.9.0-py3-none-any.whl (15 kB)\n",
            "Requirement already satisfied: setuptools>=3.0 in /usr/local/lib/python3.10/dist-packages (from gunicorn>=20.1.0->apache-airflow) (67.7.2)\n",
            "Requirement already satisfied: pyrsistent!=0.17.0,!=0.17.1,!=0.17.2,>=0.14.0 in /usr/local/lib/python3.10/dist-packages (from jsonschema>=4.0.0->apache-airflow) (0.19.3)\n",
            "Collecting uc-micro-py (from linkify-it-py>=2.0.0->apache-airflow)\n",
            "  Downloading uc_micro_py-1.0.2-py3-none-any.whl (6.2 kB)\n",
            "Requirement already satisfied: mdurl~=0.1 in /usr/local/lib/python3.10/dist-packages (from markdown-it-py>=2.1.0->apache-airflow) (0.1.2)\n",
            "Collecting pytzdata>=2020.1 (from pendulum>=2.0->apache-airflow)\n",
            "  Downloading pytzdata-2020.1-py2.py3-none-any.whl (489 kB)\n",
            "\u001b[2K     \u001b[90m━━━━━━━━━━━━━━━━━━━━━━━━━━━━━━━━━━━━━━\u001b[0m \u001b[32m490.0/490.0 kB\u001b[0m \u001b[31m39.8 MB/s\u001b[0m eta \u001b[36m0:00:00\u001b[0m\n",
            "\u001b[?25hRequirement already satisfied: docutils in /usr/local/lib/python3.10/dist-packages (from python-daemon>=3.0.0->apache-airflow) (0.16)\n",
            "Requirement already satisfied: six>=1.5 in /usr/local/lib/python3.10/dist-packages (from python-dateutil>=2.3->apache-airflow) (1.16.0)\n",
            "Requirement already satisfied: text-unidecode>=1.3 in /usr/local/lib/python3.10/dist-packages (from python-slugify>=5.0->apache-airflow) (1.3)\n",
            "Requirement already satisfied: greenlet!=0.4.17 in /usr/local/lib/python3.10/dist-packages (from sqlalchemy<2.0,>=1.4->apache-airflow) (2.0.2)\n",
            "Requirement already satisfied: sqlparse>=0.4.2 in /usr/local/lib/python3.10/dist-packages (from apache-airflow-providers-common-sql->apache-airflow) (0.4.4)\n",
            "Collecting aiohttp (from apache-airflow-providers-http->apache-airflow)\n",
            "  Downloading aiohttp-3.8.4-cp310-cp310-manylinux_2_17_x86_64.manylinux2014_x86_64.whl (1.0 MB)\n",
            "\u001b[2K     \u001b[90m━━━━━━━━━━━━━━━━━━━━━━━━━━━━━━━━━━━━━━━━\u001b[0m \u001b[32m1.0/1.0 MB\u001b[0m \u001b[31m42.3 MB/s\u001b[0m eta \u001b[36m0:00:00\u001b[0m\n",
            "\u001b[?25hCollecting requests-toolbelt (from apache-airflow-providers-http->apache-airflow)\n",
            "  Downloading requests_toolbelt-1.0.0-py2.py3-none-any.whl (54 kB)\n",
            "\u001b[2K     \u001b[90m━━━━━━━━━━━━━━━━━━━━━━━━━━━━━━━━━━━━━━━━\u001b[0m \u001b[32m54.5/54.5 kB\u001b[0m \u001b[31m4.8 MB/s\u001b[0m eta \u001b[36m0:00:00\u001b[0m\n",
            "\u001b[?25hRequirement already satisfied: certifi in /usr/local/lib/python3.10/dist-packages (from httpx->apache-airflow) (2022.12.7)\n",
            "Collecting httpcore<0.18.0,>=0.15.0 (from httpx->apache-airflow)\n",
            "  Downloading httpcore-0.17.2-py3-none-any.whl (72 kB)\n",
            "\u001b[2K     \u001b[90m━━━━━━━━━━━━━━━━━━━━━━━━━━━━━━━━━━━━━━━━\u001b[0m \u001b[32m72.5/72.5 kB\u001b[0m \u001b[31m8.3 MB/s\u001b[0m eta \u001b[36m0:00:00\u001b[0m\n",
            "\u001b[?25hRequirement already satisfied: idna in /usr/local/lib/python3.10/dist-packages (from httpx->apache-airflow) (3.4)\n",
            "Requirement already satisfied: sniffio in /usr/local/lib/python3.10/dist-packages (from httpx->apache-airflow) (1.3.0)\n",
            "Requirement already satisfied: pycparser in /usr/local/lib/python3.10/dist-packages (from cffi>=1.12->cryptography>=0.9.3->apache-airflow) (2.21)\n",
            "Collecting dnspython>=1.15.0 (from email-validator<2,>=1.0.5->flask-appbuilder==4.3.0->apache-airflow)\n",
            "  Downloading dnspython-2.3.0-py3-none-any.whl (283 kB)\n",
            "\u001b[2K     \u001b[90m━━━━━━━━━━━━━━━━━━━━━━━━━━━━━━━━━━━━━━\u001b[0m \u001b[32m283.7/283.7 kB\u001b[0m \u001b[31m27.9 MB/s\u001b[0m eta \u001b[36m0:00:00\u001b[0m\n",
            "\u001b[?25hRequirement already satisfied: pytz in /usr/local/lib/python3.10/dist-packages (from Flask-Babel<3,>=1->flask-appbuilder==4.3.0->apache-airflow) (2022.7.1)\n",
            "Requirement already satisfied: Babel>=2.3 in /usr/local/lib/python3.10/dist-packages (from Flask-Babel<3,>=1->flask-appbuilder==4.3.0->apache-airflow) (2.12.1)\n",
            "Collecting limits>=2.8 (from Flask-Limiter<4,>3->flask-appbuilder==4.3.0->apache-airflow)\n",
            "  Downloading limits-3.5.0-py3-none-any.whl (43 kB)\n",
            "\u001b[2K     \u001b[90m━━━━━━━━━━━━━━━━━━━━━━━━━━━━━━━━━━━━━━━━\u001b[0m \u001b[32m43.0/43.0 kB\u001b[0m \u001b[31m4.9 MB/s\u001b[0m eta \u001b[36m0:00:00\u001b[0m\n",
            "\u001b[?25hCollecting ordered-set<5,>4 (from Flask-Limiter<4,>3->flask-appbuilder==4.3.0->apache-airflow)\n",
            "  Downloading ordered_set-4.1.0-py3-none-any.whl (7.6 kB)\n",
            "Collecting h11<0.15,>=0.13 (from httpcore<0.18.0,>=0.15.0->httpx->apache-airflow)\n",
            "  Downloading h11-0.14.0-py3-none-any.whl (58 kB)\n",
            "\u001b[2K     \u001b[90m━━━━━━━━━━━━━━━━━━━━━━━━━━━━━━━━━━━━━━━━\u001b[0m \u001b[32m58.3/58.3 kB\u001b[0m \u001b[31m6.3 MB/s\u001b[0m eta \u001b[36m0:00:00\u001b[0m\n",
            "\u001b[?25hRequirement already satisfied: anyio<5.0,>=3.0 in /usr/local/lib/python3.10/dist-packages (from httpcore<0.18.0,>=0.15.0->httpx->apache-airflow) (3.6.2)\n",
            "Requirement already satisfied: urllib3<1.27,>=1.21.1 in /usr/local/lib/python3.10/dist-packages (from requests<3,>=2.9.1->connexion[flask]>=2.10.0->apache-airflow) (1.26.15)\n",
            "Requirement already satisfied: charset-normalizer~=2.0.0 in /usr/local/lib/python3.10/dist-packages (from requests<3,>=2.9.1->connexion[flask]>=2.10.0->apache-airflow) (2.0.12)\n",
            "Collecting multidict<7.0,>=4.5 (from aiohttp->apache-airflow-providers-http->apache-airflow)\n",
            "  Downloading multidict-6.0.4-cp310-cp310-manylinux_2_17_x86_64.manylinux2014_x86_64.whl (114 kB)\n",
            "\u001b[2K     \u001b[90m━━━━━━━━━━━━━━━━━━━━━━━━━━━━━━━━━━━━━━\u001b[0m \u001b[32m114.5/114.5 kB\u001b[0m \u001b[31m12.8 MB/s\u001b[0m eta \u001b[36m0:00:00\u001b[0m\n",
            "\u001b[?25hCollecting async-timeout<5.0,>=4.0.0a3 (from aiohttp->apache-airflow-providers-http->apache-airflow)\n",
            "  Downloading async_timeout-4.0.2-py3-none-any.whl (5.8 kB)\n",
            "Collecting yarl<2.0,>=1.0 (from aiohttp->apache-airflow-providers-http->apache-airflow)\n",
            "  Downloading yarl-1.9.2-cp310-cp310-manylinux_2_17_x86_64.manylinux2014_x86_64.whl (268 kB)\n",
            "\u001b[2K     \u001b[90m━━━━━━━━━━━━━━━━━━━━━━━━━━━━━━━━━━━━━━\u001b[0m \u001b[32m268.8/268.8 kB\u001b[0m \u001b[31m11.8 MB/s\u001b[0m eta \u001b[36m0:00:00\u001b[0m\n",
            "\u001b[?25hCollecting frozenlist>=1.1.1 (from aiohttp->apache-airflow-providers-http->apache-airflow)\n",
            "  Downloading frozenlist-1.3.3-cp310-cp310-manylinux_2_5_x86_64.manylinux1_x86_64.manylinux_2_17_x86_64.manylinux2014_x86_64.whl (149 kB)\n",
            "\u001b[2K     \u001b[90m━━━━━━━━━━━━━━━━━━━━━━━━━━━━━━━━━━━━━━\u001b[0m \u001b[32m149.6/149.6 kB\u001b[0m \u001b[31m16.3 MB/s\u001b[0m eta \u001b[36m0:00:00\u001b[0m\n",
            "\u001b[?25hCollecting aiosignal>=1.1.2 (from aiohttp->apache-airflow-providers-http->apache-airflow)\n",
            "  Downloading aiosignal-1.3.1-py3-none-any.whl (7.6 kB)\n",
            "Requirement already satisfied: importlib-resources>=1.3 in /usr/local/lib/python3.10/dist-packages (from limits>=2.8->Flask-Limiter<4,>3->flask-appbuilder==4.3.0->apache-airflow) (5.12.0)\n",
            "Building wheels for collected packages: cron-descriptor, pendulum, python-nvd3, unicodecsv\n",
            "  Building wheel for cron-descriptor (setup.py) ... \u001b[?25l\u001b[?25hdone\n",
            "  Created wheel for cron-descriptor: filename=cron_descriptor-1.4.0-py3-none-any.whl size=49837 sha256=a0c792e10950e03d3326e42a2a7b83086ee268ecf8dff4fdb1fd7e2eea773af3\n",
            "  Stored in directory: /root/.cache/pip/wheels/98/ff/fb/d908f229155ad6b65c7a34e9d35774fd1f40579241c3a5f924\n",
            "  Building wheel for pendulum (pyproject.toml) ... \u001b[?25l\u001b[?25hdone\n",
            "  Created wheel for pendulum: filename=pendulum-2.1.2-cp310-cp310-manylinux_2_31_x86_64.whl size=168872 sha256=e357a60b6446916504eb0bd28464f89c499037429e0935acc1337f441701a332\n",
            "  Stored in directory: /root/.cache/pip/wheels/2e/41/ed/f113e4c9dc10f6c846d69f412e9cd9aa429960a3e2e485a4f9\n",
            "  Building wheel for python-nvd3 (setup.py) ... \u001b[?25l\u001b[?25hdone\n",
            "  Created wheel for python-nvd3: filename=python_nvd3-0.15.0-py3-none-any.whl size=38149 sha256=4ab51f65d0b5e30c1aa04cd5fb2b6daf9d53de8435653a083b2973d4a2cb0279\n",
            "  Stored in directory: /root/.cache/pip/wheels/80/e7/4e/d99e473adde7dd21b9938d4d32bf823ca334e7979632d6a64c\n",
            "  Building wheel for unicodecsv (setup.py) ... \u001b[?25l\u001b[?25hdone\n",
            "  Created wheel for unicodecsv: filename=unicodecsv-0.14.1-py3-none-any.whl size=10745 sha256=435fff079000ac1aaa5205d5cde86e727261e7e6623eb440a384bc55fa44c421\n",
            "  Stored in directory: /root/.cache/pip/wheels/9c/ea/66/8e45247b09052a933eb1a680b7c64802298faba58aac9b346b\n",
            "Successfully built cron-descriptor pendulum python-nvd3 unicodecsv\n",
            "Installing collected packages: unicodecsv, lockfile, cron-descriptor, colorlog, WTForms, werkzeug, uc-micro-py, sqlalchemy, setproctitle, rfc3339-validator, pytzdata, python-daemon, pyjwt, prison, pathspec, ordered-set, multidict, marshmallow, Mako, lazy-object-proxy, inflection, h11, gunicorn, frozenlist, dnspython, dill, deprecated, configupdater, colorama, clickclick, cattrs, cachelib, blinker, async-timeout, asgiref, argcomplete, apispec, apache-airflow-providers-imap, apache-airflow-providers-ftp, apache-airflow-providers-common-sql, yarl, sqlalchemy-utils, sqlalchemy-jsonfield, requests-toolbelt, python-nvd3, pendulum, mdit-py-plugins, marshmallow-sqlalchemy, marshmallow-oneofschema, marshmallow-enum, linkify-it-py, limits, httpcore, email-validator, croniter, apache-airflow-providers-sqlite, alembic, aiosignal, rich-argparse, httpx, flask-wtf, Flask-SQLAlchemy, flask-session, flask-login, Flask-Limiter, Flask-JWT-Extended, flask-caching, Flask-Babel, connexion, aiohttp, flask-appbuilder, apache-airflow-providers-http, apache-airflow\n",
            "  Attempting uninstall: werkzeug\n",
            "    Found existing installation: Werkzeug 2.3.0\n",
            "    Uninstalling Werkzeug-2.3.0:\n",
            "      Successfully uninstalled Werkzeug-2.3.0\n",
            "  Attempting uninstall: sqlalchemy\n",
            "    Found existing installation: SQLAlchemy 2.0.10\n",
            "    Uninstalling SQLAlchemy-2.0.10:\n",
            "      Successfully uninstalled SQLAlchemy-2.0.10\n",
            "Successfully installed Flask-Babel-2.0.0 Flask-JWT-Extended-4.4.4 Flask-Limiter-3.3.1 Flask-SQLAlchemy-2.5.1 Mako-1.2.4 WTForms-3.0.1 aiohttp-3.8.4 aiosignal-1.3.1 alembic-1.11.1 apache-airflow-2.6.1 apache-airflow-providers-common-sql-1.4.0 apache-airflow-providers-ftp-3.3.1 apache-airflow-providers-http-4.3.0 apache-airflow-providers-imap-3.1.1 apache-airflow-providers-sqlite-3.3.2 apispec-5.2.2 argcomplete-3.0.8 asgiref-3.7.1 async-timeout-4.0.2 blinker-1.6.2 cachelib-0.9.0 cattrs-22.2.0 clickclick-20.10.2 colorama-0.4.6 colorlog-4.8.0 configupdater-3.1.1 connexion-2.14.2 cron-descriptor-1.4.0 croniter-1.3.14 deprecated-1.2.13 dill-0.3.6 dnspython-2.3.0 email-validator-1.3.1 flask-appbuilder-4.3.0 flask-caching-2.0.2 flask-login-0.6.2 flask-session-0.5.0 flask-wtf-1.1.1 frozenlist-1.3.3 gunicorn-20.1.0 h11-0.14.0 httpcore-0.17.2 httpx-0.24.1 inflection-0.5.1 lazy-object-proxy-1.9.0 limits-3.5.0 linkify-it-py-2.0.2 lockfile-0.12.2 marshmallow-3.19.0 marshmallow-enum-1.5.1 marshmallow-oneofschema-3.0.1 marshmallow-sqlalchemy-0.26.1 mdit-py-plugins-0.3.5 multidict-6.0.4 ordered-set-4.1.0 pathspec-0.9.0 pendulum-2.1.2 prison-0.2.1 pyjwt-2.7.0 python-daemon-3.0.1 python-nvd3-0.15.0 pytzdata-2020.1 requests-toolbelt-1.0.0 rfc3339-validator-0.1.4 rich-argparse-1.1.0 setproctitle-1.3.2 sqlalchemy-1.4.48 sqlalchemy-jsonfield-1.0.1.post0 sqlalchemy-utils-0.41.1 uc-micro-py-1.0.2 unicodecsv-0.14.1 werkzeug-2.2.3 yarl-1.9.2\n"
          ]
        }
      ],
      "source": [
        "!pip install apache-airflow\n"
      ]
    },
    {
      "cell_type": "code",
      "source": [
        "from datetime import timedelta  \n",
        "from airflow import DAG  \n",
        "from airflow.operators.python import PythonOperator  \n",
        "from airflow.utils.dates import days_ago   "
      ],
      "metadata": {
        "id": "AKkOxuZPP84h"
      },
      "execution_count": 16,
      "outputs": []
    },
    {
      "cell_type": "code",
      "source": [
        "default_args = {  \n",
        "'owner': 'aabid',  \n",
        " 'depends_on_past': False,  \n",
        " 'start_date': days_ago(2),  \n",
        " 'email': ['airflow@example.com'],  \n",
        "'email_on_failure': False,  \n",
        " 'email_on_retry': False,  \n",
        "'retries': 1,  \n",
        " 'retry_delay': timedelta(minutes=5),  \n",
        " # 'queue': 'bash_queue',  \n",
        " # 'pool': 'backfill',  \n",
        "# 'priority_weight': 10,  \n",
        "# 'end_date': datetime(2016, 1, 1),  \n",
        "# 'wait_for_downstream': False,  \n",
        "# 'dag': dag,  \n",
        "# 'sla': timedelta(hours=2),  \n",
        "# 'execution_timeout': timedelta(seconds=300),  \n",
        "# 'on_failure_callback': some_function,  \n",
        " # 'on_success_callback': some_other_function,  \n",
        "# 'on_retry_callback': another_function,  \n",
        "# 'sla_miss_callback': yet_another_function,  \n",
        "# 'trigger_rule': 'all_success'  \n",
        "}  "
      ],
      "metadata": {
        "colab": {
          "base_uri": "https://localhost:8080/",
          "height": 50
        },
        "id": "y-NJYAN_QSYY",
        "outputId": "c4c36876-9602-4780-fe25-a33314786e2c"
      },
      "execution_count": 17,
      "outputs": [
        {
          "output_type": "display_data",
          "data": {
            "text/plain": [
              "\u001b[1;33m<\u001b[0m\u001b[1;33mipython-input-\u001b[0m\u001b[1;33m17\u001b[0m\u001b[1;33m-bc15199a9ff2\u001b[0m\u001b[1;33m>\u001b[0m\u001b[1;33m:\u001b[0m\u001b[1;33m4\u001b[0m\u001b[1;33m RemovedInAirflow3Warning\u001b[0m\u001b[33m: Function `days_ago` is deprecated and will be removed in Airflow \u001b[0m\u001b[1;33m3.0\u001b[0m\u001b[33m. You can achieve equivalent behavior with `\u001b[0m\u001b[1;33mpendulum.today\u001b[0m\u001b[1;33m(\u001b[0m\u001b[33m'UTC'\u001b[0m\u001b[1;33m)\u001b[0m\u001b[1;33m.add\u001b[0m\u001b[1;33m(\u001b[0m\u001b[33mdays\u001b[0m\u001b[33m=-N, \u001b[0m\u001b[33m...\u001b[0m\u001b[1;33m)\u001b[0m\u001b[33m`\u001b[0m\n"
            ],
            "text/html": [
              "<pre style=\"white-space:pre;overflow-x:auto;line-height:normal;font-family:Menlo,'DejaVu Sans Mono',consolas,'Courier New',monospace\"><span style=\"color: #808000; text-decoration-color: #808000; font-weight: bold\">&lt;ipython-input-</span><span style=\"color: #808000; text-decoration-color: #808000; font-weight: bold\">17</span><span style=\"color: #808000; text-decoration-color: #808000; font-weight: bold\">-bc15199a9ff2&gt;:</span><span style=\"color: #808000; text-decoration-color: #808000; font-weight: bold\">4</span><span style=\"color: #808000; text-decoration-color: #808000; font-weight: bold\"> RemovedInAirflow3Warning</span><span style=\"color: #808000; text-decoration-color: #808000\">: Function `days_ago` is deprecated and will be removed in Airflow </span><span style=\"color: #808000; text-decoration-color: #808000; font-weight: bold\">3.0</span><span style=\"color: #808000; text-decoration-color: #808000\">. You can achieve equivalent behavior with `</span><span style=\"color: #808000; text-decoration-color: #808000; font-weight: bold\">pendulum.today(</span><span style=\"color: #808000; text-decoration-color: #808000\">'UTC'</span><span style=\"color: #808000; text-decoration-color: #808000; font-weight: bold\">).add(</span><span style=\"color: #808000; text-decoration-color: #808000\">days</span><span style=\"color: #808000; text-decoration-color: #808000\">=-N, ...</span><span style=\"color: #808000; text-decoration-color: #808000; font-weight: bold\">)</span><span style=\"color: #808000; text-decoration-color: #808000\">`</span>\n",
              "</pre>\n"
            ]
          },
          "metadata": {}
        }
      ]
    },
    {
      "cell_type": "code",
      "source": [
        "def new_func(str1):  \n",
        "    return str1 + 'is a fantastic tool'  "
      ],
      "metadata": {
        "id": "4z0TyKZwQiWd"
      },
      "execution_count": 18,
      "outputs": []
    },
    {
      "cell_type": "code",
      "source": [
        "dag = DAG(  \n",
        "    'python_operator_sample',  \n",
        "    default_args=default_args,  \n",
        "    description='Learn the Python Operator?',  \n",
        "    schedule_interval=timedelta(days=1),  \n",
        ")  "
      ],
      "metadata": {
        "colab": {
          "base_uri": "https://localhost:8080/",
          "height": 33
        },
        "id": "uwKnANwHQkb9",
        "outputId": "750fc5f7-ec6b-4f09-a9b2-d2049ee9089b"
      },
      "execution_count": 19,
      "outputs": [
        {
          "output_type": "display_data",
          "data": {
            "text/plain": [
              "\u001b[1;33m<\u001b[0m\u001b[1;33mipython-input-\u001b[0m\u001b[1;33m19\u001b[0m\u001b[1;33m-4a1b3d31bb7c\u001b[0m\u001b[1;33m>\u001b[0m\u001b[1;33m:\u001b[0m\u001b[1;33m1\u001b[0m\u001b[1;33m RemovedInAirflow3Warning\u001b[0m\u001b[33m: Param `schedule_interval` is deprecated and will be removed in a future release. Please use `schedule` instead.\u001b[0m\n"
            ],
            "text/html": [
              "<pre style=\"white-space:pre;overflow-x:auto;line-height:normal;font-family:Menlo,'DejaVu Sans Mono',consolas,'Courier New',monospace\"><span style=\"color: #808000; text-decoration-color: #808000; font-weight: bold\">&lt;ipython-input-</span><span style=\"color: #808000; text-decoration-color: #808000; font-weight: bold\">19</span><span style=\"color: #808000; text-decoration-color: #808000; font-weight: bold\">-4a1b3d31bb7c&gt;:</span><span style=\"color: #808000; text-decoration-color: #808000; font-weight: bold\">1</span><span style=\"color: #808000; text-decoration-color: #808000; font-weight: bold\"> RemovedInAirflow3Warning</span><span style=\"color: #808000; text-decoration-color: #808000\">: Param `schedule_interval` is deprecated and will be removed in a future release. Please use `schedule` instead.</span>\n",
              "</pre>\n"
            ]
          },
          "metadata": {}
        }
      ]
    },
    {
      "cell_type": "code",
      "source": [
        "t1 = PythonOperator(  \n",
        "    task_id='print',  \n",
        "    python_callable= new_func,  \n",
        "    op_kwargs = {\"x\" : \"Apache Airflow\"},  \n",
        "    dag=dag,  \n",
        ")  \n",
        "t1  "
      ],
      "metadata": {
        "colab": {
          "base_uri": "https://localhost:8080/"
        },
        "id": "ora7AnyuQnFf",
        "outputId": "d08d6491-4eff-4f76-b8a2-c8db5af51fac"
      },
      "execution_count": 20,
      "outputs": [
        {
          "output_type": "execute_result",
          "data": {
            "text/plain": [
              "<Task(PythonOperator): print>"
            ]
          },
          "metadata": {},
          "execution_count": 20
        }
      ]
    },
    {
      "cell_type": "code",
      "source": [],
      "metadata": {
        "id": "m-aOhJXiQvRa"
      },
      "execution_count": null,
      "outputs": []
    }
  ]
}